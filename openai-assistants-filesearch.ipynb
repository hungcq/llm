{
 "cells": [
  {
   "cell_type": "code",
   "id": "initial_id",
   "metadata": {
    "collapsed": true,
    "ExecuteTime": {
     "end_time": "2025-01-19T04:03:22.887407Z",
     "start_time": "2025-01-19T04:03:22.062028Z"
    }
   },
   "source": [
    "from openai import OpenAI\n",
    "from dotenv import load_dotenv\n",
    "\n",
    "load_dotenv()\n",
    "client = OpenAI()\n",
    "\n",
    "assistant = client.beta.assistants.create(\n",
    "    name=\"hungcq Knowledge Repo assistant\",\n",
    "    instructions=\"Use you knowledge base to answer questions about the topics in the knowledge base.\",\n",
    "    model=\"gpt-4o-mini\",\n",
    "    tools=[{\"type\": \"file_search\"}],\n",
    ")"
   ],
   "outputs": [],
   "execution_count": 11
  },
  {
   "metadata": {
    "ExecuteTime": {
     "end_time": "2025-01-19T04:20:29.991243Z",
     "start_time": "2025-01-19T04:20:28.867284Z"
    }
   },
   "cell_type": "code",
   "source": [
    "assistant = client.beta.assistants.update(\n",
    "    assistant_id=assistant.id,\n",
    "    tool_resources={\"file_search\": {\"vector_store_ids\": [\"vs_Zbf7kiOCHTrb6TpJBLyr7jUw\"]}},\n",
    ")"
   ],
   "id": "e3e4b2b5cd6d68b7",
   "outputs": [],
   "execution_count": 35
  },
  {
   "metadata": {},
   "cell_type": "code",
   "outputs": [],
   "execution_count": null,
   "source": "",
   "id": "6853d950cdd29c25"
  }
 ],
 "metadata": {
  "kernelspec": {
   "display_name": "Python 3",
   "language": "python",
   "name": "python3"
  },
  "language_info": {
   "codemirror_mode": {
    "name": "ipython",
    "version": 2
   },
   "file_extension": ".py",
   "mimetype": "text/x-python",
   "name": "python",
   "nbconvert_exporter": "python",
   "pygments_lexer": "ipython2",
   "version": "2.7.6"
  }
 },
 "nbformat": 4,
 "nbformat_minor": 5
}
