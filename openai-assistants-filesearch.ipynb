{
 "cells": [
  {
   "metadata": {},
   "cell_type": "code",
   "outputs": [],
   "execution_count": null,
   "source": [
    "from openai import OpenAI\n",
    "from dotenv import load_dotenv\n",
    "\n",
    "load_dotenv()\n",
    "client = OpenAI()\n",
    "\n",
    "assistant = client.beta.assistants.create(\n",
    "    name=\"hungcq Knowledge Repo assistant\",\n",
    "    instructions=\"Use you knowledge base to answer questions about the topics in the knowledge base.\",\n",
    "    model=\"gpt-4o-mini\",\n",
    "    tools=[{\"type\": \"file_search\"}],\n",
    ")"
   ],
   "id": "77cfe3008a83f302"
  },
  {
   "metadata": {},
   "cell_type": "code",
   "outputs": [],
   "execution_count": null,
   "source": [
    "assistant = client.beta.assistants.update(\n",
    "    assistant_id=assistant.id,\n",
    "    tool_resources={\"file_search\": {\"vector_store_ids\": [\"vs_Zbf7kiOCHTrb6TpJBLyr7jUw\"]}},\n",
    ")\n"
   ],
   "id": "c24cd96a6047eb7d"
  },
  {
   "metadata": {
    "ExecuteTime": {
     "end_time": "2025-01-29T03:34:00.346955Z",
     "start_time": "2025-01-29T03:33:59.437121Z"
    }
   },
   "cell_type": "code",
   "source": [
    "thread = client.beta.threads.create()\n",
    "message = client.beta.threads.messages.create(\n",
    "    thread_id=thread.id,\n",
    "    role=\"user\",\n",
    "    content=\"Explain deprecation best practice\"\n",
    ")"
   ],
   "id": "6853d950cdd29c25",
   "outputs": [],
   "execution_count": 5
  },
  {
   "metadata": {
    "ExecuteTime": {
     "end_time": "2025-01-29T03:34:16.648914Z",
     "start_time": "2025-01-29T03:34:02.369049Z"
    }
   },
   "cell_type": "code",
   "source": [
    "run = client.beta.threads.runs.create_and_poll(\n",
    "    thread_id=thread.id,\n",
    "    assistant_id=assistant.id,\n",
    ")\n",
    "if run.status == 'completed':\n",
    "    messages = client.beta.threads.messages.list(\n",
    "        thread_id=thread.id\n",
    "    )\n",
    "    print(messages)\n",
    "else:\n",
    "    print(run.status)"
   ],
   "id": "3e8730a6c0472ceb",
   "outputs": [
    {
     "name": "stdout",
     "output_type": "stream",
     "text": [
      "SyncCursorPage[Message](data=[Message(id='msg_etxDiSnQIBWxcqgRps7oZMYC', assistant_id='asst_Gjf2756339pzMMUr0Zx0j7AB', attachments=[], completed_at=None, content=[TextContentBlock(text=Text(annotations=[FileCitationAnnotation(end_index=482, file_citation=FileCitation(file_id='file-7kDio7vCQX1XQDTacUG1tr'), start_index=470, text='【4:0†source】', type='file_citation'), FileCitationAnnotation(end_index=635, file_citation=FileCitation(file_id='file-7kDio7vCQX1XQDTacUG1tr'), start_index=623, text='【4:0†source】', type='file_citation'), FileCitationAnnotation(end_index=834, file_citation=FileCitation(file_id='file-7kDio7vCQX1XQDTacUG1tr'), start_index=822, text='【4:0†source】', type='file_citation'), FileCitationAnnotation(end_index=996, file_citation=FileCitation(file_id='file-7kDio7vCQX1XQDTacUG1tr'), start_index=984, text='【4:0†source】', type='file_citation'), FileCitationAnnotation(end_index=1167, file_citation=FileCitation(file_id='file-7kDio7vCQX1XQDTacUG1tr'), start_index=1155, text='【4:0†source】', type='file_citation'), FileCitationAnnotation(end_index=1312, file_citation=FileCitation(file_id='file-7kDio7vCQX1XQDTacUG1tr'), start_index=1300, text='【4:0†source】', type='file_citation'), FileCitationAnnotation(end_index=1479, file_citation=FileCitation(file_id='file-7kDio7vCQX1XQDTacUG1tr'), start_index=1467, text='【4:0†source】', type='file_citation'), FileCitationAnnotation(end_index=1637, file_citation=FileCitation(file_id='file-7kDio7vCQX1XQDTacUG1tr'), start_index=1625, text='【4:0†source】', type='file_citation'), FileCitationAnnotation(end_index=1824, file_citation=FileCitation(file_id='file-7kDio7vCQX1XQDTacUG1tr'), start_index=1812, text='【4:0†source】', type='file_citation'), FileCitationAnnotation(end_index=2088, file_citation=FileCitation(file_id='file-7kDio7vCQX1XQDTacUG1tr'), start_index=2076, text='【4:0†source】', type='file_citation'), FileCitationAnnotation(end_index=2273, file_citation=FileCitation(file_id='file-7kDio7vCQX1XQDTacUG1tr'), start_index=2261, text='【4:0†source】', type='file_citation'), FileCitationAnnotation(end_index=2428, file_citation=FileCitation(file_id='file-7kDio7vCQX1XQDTacUG1tr'), start_index=2416, text='【4:0†source】', type='file_citation'), FileCitationAnnotation(end_index=2901, file_citation=FileCitation(file_id='file-7kDio7vCQX1XQDTacUG1tr'), start_index=2889, text='【4:0†source】', type='file_citation')], value='**Deprecation Best Practices**\\n\\nDeprecation is a crucial part of maintaining and evolving software systems. It involves the orderly migration away from obsolete systems to reduce redundancy and complexity in a codebase or technical infrastructure. Here are the best practices for deprecation:\\n\\n### 1. When to Deprecate\\n- **Identify Better Alternatives**: Deprecation should occur when better alternatives exist that can reduce long-term operational and maintenance costs【4:0†source】.\\n- **Limit Scope**: The amount of work involved in deprecation should be manageable to ensure focused efforts that minimize impacts on users【4:0†source】.\\n\\n### 2. Types of Deprecation\\n- **Advisory Deprecation**: This does not impose a deadline for removal and serves as a low-priority notice to users about new options that may benefit them【4:0†source】.\\n- **Compulsory Deprecation**: This comes with a deadline for removal of the obsolete system, requiring an enforcement mechanism to ensure compliance【4:0†source】.\\n\\n### 3. Communication and Documentation\\n- **Clear Notifications**: Inform users about what is deprecated, including timelines for removal and migration paths【4:0†source】.\\n- **Documentation Updates**: Remove or mark deprecated features in documentation, providing clear guidance on alternative solutions【4:0†source】.\\n\\n### 4. Tools and Processes\\n- **Discovery Tools**: Utilize static analysis and runtime logging to identify how users interact with the deprecated systems【4:0†source】.\\n- **Migration Support**: Offer tools for migration, such as code generation or review tools to help users transition smoothly to the new systems【4:0†source】.\\n\\n### 5. Preventing Backsliding\\n- **Warnings and Alerts**: Implement actionable deprecation warnings that guide users on how to migrate, ensuring they are relevant and timely【4:0†source】. Avoid overwhelming users with too many alerts to reduce alert fatigue.\\n\\n### 6. Incremental Changes\\n- **Phased Approach**: Focus on small, incremental shifts that deliver immediate benefits while allowing for evaluation and adaptation of user feedback【4:0†source】.\\n\\n### 7. Design Considerations\\n- **Consider User Migration**: Incorporate user effort and potential barriers into the design of new systems that replace deprecated features【4:0†source】.\\n- **Build with Dependencies**: Address how dependencies are consumed and produced to facilitate the transition from deprecated to new systems【4:0†source】.\\n\\n### Conclusion\\nDeprecation is about preserving system flexibility while ensuring that users can transition effortlessly to newer, better-supported systems. Following these best practices will facilitate a smoother migration process and minimize disruption to users. \\n\\nImplementing a structured deprecation process that includes notifying users, providing alternatives, and enforcing necessary actions is essential for maintaining a healthy software ecosystem【4:0†source】.'), type='text')], created_at=1738121646, incomplete_at=None, incomplete_details=None, metadata={}, object='thread.message', role='assistant', run_id='run_ilU8zOC23qIpXqSs3R2eJ5pK', status=None, thread_id='thread_MKAk9GvuCi69WOSS6sC0W6lD'), Message(id='msg_OMm8Y8zEuiSuqaOuQBOL7Z64', assistant_id=None, attachments=[], completed_at=None, content=[TextContentBlock(text=Text(annotations=[], value='Explain deprecation best practice'), type='text')], created_at=1738121640, incomplete_at=None, incomplete_details=None, metadata={}, object='thread.message', role='user', run_id=None, status=None, thread_id='thread_MKAk9GvuCi69WOSS6sC0W6lD')], object='list', first_id='msg_etxDiSnQIBWxcqgRps7oZMYC', last_id='msg_OMm8Y8zEuiSuqaOuQBOL7Z64', has_more=False)\n"
     ]
    }
   ],
   "execution_count": 6
  }
 ],
 "metadata": {
  "kernelspec": {
   "display_name": "Python 3",
   "language": "python",
   "name": "python3"
  },
  "language_info": {
   "codemirror_mode": {
    "name": "ipython",
    "version": 2
   },
   "file_extension": ".py",
   "mimetype": "text/x-python",
   "name": "python",
   "nbconvert_exporter": "python",
   "pygments_lexer": "ipython2",
   "version": "2.7.6"
  }
 },
 "nbformat": 4,
 "nbformat_minor": 5
}
