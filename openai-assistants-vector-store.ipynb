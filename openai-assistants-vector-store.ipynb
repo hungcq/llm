{
 "cells": [
  {
   "cell_type": "code",
   "execution_count": null,
   "id": "initial_id",
   "metadata": {
    "collapsed": true
   },
   "outputs": [],
   "source": [
    "from openai import OpenAI\n",
    "from dotenv import load_dotenv\n",
    "\n",
    "load_dotenv()\n",
    "client = OpenAI()"
   ]
  },
  {
   "metadata": {},
   "cell_type": "code",
   "outputs": [],
   "execution_count": null,
   "source": [
    "import os\n",
    "\n",
    "def get_filtered_file_paths(directory, extensions):\n",
    "    \"\"\"\n",
    "    Recursively get paths of all files in the directory with the specified extensions.\n",
    "\n",
    "    :param directory: Directory to search.\n",
    "    :param extensions: Set of supported file extensions (lowercase, no leading dot).\n",
    "    :return: List of file paths with supported extensions.\n",
    "    \"\"\"\n",
    "    filtered_files = []\n",
    "    for root, _, files in os.walk(directory):\n",
    "        for file in files:\n",
    "            if file.split('.')[-1].lower() in extensions:\n",
    "                filtered_files.append(os.path.join(root, file))\n",
    "                if os.path.getsize(os.path.join(root, file)) == 0:\n",
    "                    print('file is empty', os.path.join(root, file))\n",
    "    return filtered_files\n",
    "\n",
    "# Define supported extensions (lowercase, without leading dot)\n",
    "supported_extensions = {\n",
    "    \"c\", \"cpp\", \"css\", \"csv\", \"doc\", \"docx\", \"gif\", \"go\", \"html\", \"java\", \"jpeg\",\n",
    "    \"js\", \"json\", \"md\", \"pdf\", \"php\", \"pkl\", \"pptx\", \"py\", \"rb\", \"tar\", \"tex\",\n",
    "    \"ts\", \"txt\", \"webp\", \"xlsx\", \"xml\", \"zip\"\n",
    "}\n",
    "# supported_extensions = {\n",
    "#     \"md\"\n",
    "# }\n",
    "\n",
    "# Example usage\n",
    "directory_to_search = \"/Users/hung.chuquoc/Desktop/knowledge-repo/information-technology\"\n",
    "filtered_paths = get_filtered_file_paths(directory_to_search, supported_extensions)\n",
    "\n",
    "# Print results\n",
    "# for path in filtered_paths:\n",
    "#     print(path)"
   ],
   "id": "20a80a1a6f664fc8"
  },
  {
   "metadata": {},
   "cell_type": "code",
   "outputs": [],
   "execution_count": null,
   "source": [
    "# stores = client.beta.vector_stores.list()\n",
    "# for store in stores.data:\n",
    "#     vector_store_id = store.id\n",
    "#     print(f\"Deleting vector store: {vector_store_id}\")\n",
    "#     client.beta.vector_stores.delete(vector_store_id)"
   ],
   "id": "a3ed8b6e4ef7b60a"
  },
  {
   "metadata": {},
   "cell_type": "code",
   "outputs": [],
   "execution_count": null,
   "source": [
    "# Create a vector store caled \"Financial Statements\"\n",
    "vector_store = client.beta.vector_stores.create(name=\"Information technology\")\n",
    "\n",
    "# Ready the files for upload to OpenAI\n",
    "file_paths = filtered_paths\n",
    "file_streams = [open(path, \"rb\") for path in file_paths]\n",
    "\n",
    "# Use the upload and poll SDK helper to upload the files, add them to the vector store,\n",
    "# and poll the status of the file batch for completion.\n",
    "file_batch = client.beta.vector_stores.file_batches.upload_and_poll(\n",
    "    vector_store_id=vector_store.id, files=file_streams\n",
    ")\n",
    "\n",
    "# You can print the status and the file counts of the batch to see the result of this operation.\n",
    "print(file_batch.status)\n",
    "print(file_batch.file_counts)\n",
    "print(vector_store.id)"
   ],
   "id": "6b86579de06ea18e"
  }
 ],
 "metadata": {
  "kernelspec": {
   "display_name": "Python 3",
   "language": "python",
   "name": "python3"
  },
  "language_info": {
   "codemirror_mode": {
    "name": "ipython",
    "version": 2
   },
   "file_extension": ".py",
   "mimetype": "text/x-python",
   "name": "python",
   "nbconvert_exporter": "python",
   "pygments_lexer": "ipython2",
   "version": "2.7.6"
  }
 },
 "nbformat": 4,
 "nbformat_minor": 5
}
