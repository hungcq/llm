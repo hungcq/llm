{
 "cells": [
  {
   "cell_type": "code",
   "id": "initial_id",
   "metadata": {
    "collapsed": true,
    "ExecuteTime": {
     "end_time": "2025-01-29T09:34:03.531496Z",
     "start_time": "2025-01-29T09:34:03.124534Z"
    }
   },
   "source": [
    "from openai import OpenAI\n",
    "from dotenv import load_dotenv\n",
    "\n",
    "load_dotenv()\n",
    "client = OpenAI()"
   ],
   "outputs": [],
   "execution_count": 1
  },
  {
   "metadata": {
    "ExecuteTime": {
     "end_time": "2025-01-29T09:46:21.364437Z",
     "start_time": "2025-01-29T09:46:21.353016Z"
    }
   },
   "cell_type": "code",
   "source": [
    "import os\n",
    "\n",
    "def get_filtered_file_paths(directory, extensions):\n",
    "    \"\"\"\n",
    "    Recursively get paths of all files in the directory with the specified extensions.\n",
    "\n",
    "    :param directory: Directory to search.\n",
    "    :param extensions: Set of supported file extensions (lowercase, no leading dot).\n",
    "    :return: List of file paths with supported extensions.\n",
    "    \"\"\"\n",
    "    filtered_files = []\n",
    "    for root, _, files in os.walk(directory):\n",
    "        for file in files:\n",
    "            if file.split('.')[-1].lower() in extensions:\n",
    "                filtered_files.append(os.path.join(root, file))\n",
    "                if os.path.getsize(os.path.join(root, file)) == 0:\n",
    "                    print('file is empty', os.path.join(root, file))\n",
    "    return filtered_files\n",
    "\n",
    "# Define supported extensions (lowercase, without leading dot)\n",
    "# supported_extensions = {\n",
    "#     \"c\", \"cpp\", \"css\", \"csv\", \"doc\", \"docx\", \"gif\", \"go\", \"html\", \"java\", \"jpeg\",\n",
    "#     \"js\", \"json\", \"md\", \"pdf\", \"php\", \"pkl\", \"pptx\", \"py\", \"rb\", \"tar\", \"tex\",\n",
    "#     \"ts\", \"txt\", \"webp\", \"xlsx\", \"xml\", \"zip\"\n",
    "# }\n",
    "supported_extensions = {\n",
    "    \"md\"\n",
    "}\n",
    "\n",
    "# Example usage\n",
    "directory_to_search = \"/Users/hung.chuquoc/projects/documentation/docs\"\n",
    "filtered_paths = get_filtered_file_paths(directory_to_search, supported_extensions)\n",
    "\n",
    "# Print results\n",
    "# for path in filtered_paths:\n",
    "#     print(path)"
   ],
   "id": "20a80a1a6f664fc8",
   "outputs": [],
   "execution_count": 11
  },
  {
   "metadata": {
    "ExecuteTime": {
     "end_time": "2025-01-29T09:46:14.332156Z",
     "start_time": "2025-01-29T09:46:12.313091Z"
    }
   },
   "cell_type": "code",
   "source": [
    "stores = client.beta.vector_stores.list()\n",
    "for store in stores.data:\n",
    "    vector_store_id = store.id\n",
    "    print(f\"vector store {store.name}: {store.id}\")\n",
    "\n",
    "client.beta.vector_stores.delete('vs_En3j1CQSu0x3D7n1WB7FJmya')"
   ],
   "id": "a3ed8b6e4ef7b60a",
   "outputs": [
    {
     "name": "stdout",
     "output_type": "stream",
     "text": [
      "vector store Temporal: vs_En3j1CQSu0x3D7n1WB7FJmya\n",
      "vector store Information technology: vs_Zbf7kiOCHTrb6TpJBLyr7jUw\n"
     ]
    },
    {
     "data": {
      "text/plain": [
       "VectorStoreDeleted(id='vs_En3j1CQSu0x3D7n1WB7FJmya', deleted=True, object='vector_store.deleted')"
      ]
     },
     "execution_count": 10,
     "metadata": {},
     "output_type": "execute_result"
    }
   ],
   "execution_count": 10
  },
  {
   "metadata": {
    "ExecuteTime": {
     "end_time": "2025-01-29T09:47:36.317291Z",
     "start_time": "2025-01-29T09:46:25.295577Z"
    }
   },
   "cell_type": "code",
   "source": [
    "# Create a vector store caled \"Financial Statements\"\n",
    "vector_store = client.beta.vector_stores.create(name=\"Temporal\")\n",
    "\n",
    "# Ready the files for upload to OpenAI\n",
    "file_paths = filtered_paths\n",
    "file_streams = [open(path, \"rb\") for path in file_paths]\n",
    "\n",
    "# Use the upload and poll SDK helper to upload the files, add them to the vector store,\n",
    "# and poll the status of the file batch for completion.\n",
    "file_batch = client.beta.vector_stores.file_batches.upload_and_poll(\n",
    "    vector_store_id=vector_store.id, files=file_streams\n",
    ")\n",
    "\n",
    "# You can print the status and the file counts of the batch to see the result of this operation.\n",
    "print(file_batch.status)\n",
    "print(file_batch.file_counts)\n",
    "print(vector_store.id)"
   ],
   "id": "6b86579de06ea18e",
   "outputs": [
    {
     "name": "stdout",
     "output_type": "stream",
     "text": [
      "completed\n",
      "FileCounts(cancelled=0, completed=246, failed=35, in_progress=0, total=281)\n",
      "vs_ewunN7laFAOw6m8mEOF5jixY\n"
     ]
    }
   ],
   "execution_count": 12
  }
 ],
 "metadata": {
  "kernelspec": {
   "display_name": "Python 3",
   "language": "python",
   "name": "python3"
  },
  "language_info": {
   "codemirror_mode": {
    "name": "ipython",
    "version": 2
   },
   "file_extension": ".py",
   "mimetype": "text/x-python",
   "name": "python",
   "nbconvert_exporter": "python",
   "pygments_lexer": "ipython2",
   "version": "2.7.6"
  }
 },
 "nbformat": 4,
 "nbformat_minor": 5
}
